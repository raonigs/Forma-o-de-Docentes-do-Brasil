{
 "cells": [
  {
   "cell_type": "markdown",
   "id": "b6cdbc7d",
   "metadata": {},
   "source": [
    "# Formação de Docente no Brasil"
   ]
  },
  {
   "cell_type": "markdown",
   "id": "a556bce8",
   "metadata": {},
   "source": [
    "## 1 - Importação dos pacotes"
   ]
  },
  {
   "cell_type": "code",
   "execution_count": null,
   "id": "4dd28b7a",
   "metadata": {},
   "outputs": [],
   "source": [
    "# Imports\n",
    "# Manipulação de dados e números\n",
    "import pandas as pd\n",
    "import numpy as np\n",
    "\n",
    "# Base de dados\n",
    "import basedosdados as bd\n",
    "\n",
    "# Gráficos\n",
    "import plotly.express as px\n",
    "import plotly.graph_objects as go\n",
    "from plotly.subplots import make_subplots\n",
    "\n",
    "# Manipulação de data\n",
    "import datetime\n",
    "\n",
    "# Rejeição de mensagens 'warnings'\n",
    "import warnings\n",
    "warnings.filterwarnings('ignore')"
   ]
  },
  {
   "cell_type": "markdown",
   "id": "c60c3ddb",
   "metadata": {},
   "source": [
    "## 2 - Extração e pré-processamento"
   ]
  },
  {
   "cell_type": "code",
   "execution_count": null,
   "id": "04b58348",
   "metadata": {},
   "outputs": [],
   "source": [
    "# Criação da query para carregamento dos dados, redução e carregamento dos dados\n",
    "query = '''\n",
    "SELECT uf.*, dicionario.valor\n",
    "FROM `basedosdados.br_inep_formacao_docente.uf` AS uf\n",
    "JOIN `basedosdados.br_inep_formacao_docente.dicionario` AS dicionario\n",
    "ON CAST(uf.grupo AS STRING) = dicionario.chave\n",
    "WHERE dicionario.id_tabela = \"regiao\"\n",
    "'''\n",
    "df = bd.read_sql(query,\n",
    "                billing_project_id='analise1-rgs')"
   ]
  },
  {
   "cell_type": "markdown",
   "id": "f3353907",
   "metadata": {},
   "source": [
    "## 3 - Análise Exploratória"
   ]
  },
  {
   "cell_type": "code",
   "execution_count": null,
   "id": "660853fd",
   "metadata": {},
   "outputs": [],
   "source": [
    "df.columns = ['ano','regiao','sigla_uf','tipo_localizacao','rede','modalidade','grupo','percentual','categoria_docente']\n",
    "df.head()"
   ]
  },
  {
   "cell_type": "code",
   "execution_count": null,
   "id": "b9ece2ec",
   "metadata": {},
   "outputs": [],
   "source": [
    "# Itens distintos em cada variável\n",
    "df.nunique()"
   ]
  },
  {
   "cell_type": "code",
   "execution_count": null,
   "id": "d71fac2c",
   "metadata": {},
   "outputs": [],
   "source": [
    "# Itens nulos nas variáveis\n",
    "df.isnull().sum()"
   ]
  },
  {
   "cell_type": "code",
   "execution_count": null,
   "id": "bb662b49",
   "metadata": {},
   "outputs": [],
   "source": [
    "# Remoção de valores nulos da base de dados\n",
    "df = df.dropna()"
   ]
  },
  {
   "cell_type": "code",
   "execution_count": null,
   "id": "dd480ca7",
   "metadata": {},
   "outputs": [],
   "source": [
    "df['ano'] = pd.to_datetime(df['ano'], format='%Y').dt.year\n",
    "df['ano'].dtype"
   ]
  },
  {
   "cell_type": "markdown",
   "id": "38e4b402",
   "metadata": {},
   "source": [
    "## 4 - Transformação"
   ]
  },
  {
   "cell_type": "code",
   "execution_count": null,
   "id": "d4e11928",
   "metadata": {},
   "outputs": [],
   "source": [
    "# Selecionando os dados do ano de 2020\n",
    "df2020 = df[df['ano']==2020]"
   ]
  },
  {
   "cell_type": "code",
   "execution_count": null,
   "id": "d2549ea9",
   "metadata": {},
   "outputs": [],
   "source": [
    "df2020['rede'].unique()"
   ]
  },
  {
   "cell_type": "code",
   "execution_count": null,
   "id": "46eb3f31",
   "metadata": {},
   "outputs": [],
   "source": [
    "# Separando a modalidade categoria_docente e percentual\n",
    "df2020perc = df[['rede','modalidade','percentual','categoria_docente']]"
   ]
  },
  {
   "cell_type": "code",
   "execution_count": null,
   "id": "9aab2984",
   "metadata": {},
   "outputs": [],
   "source": [
    "# Remoção de algumas observações que não entrarão na análise\n",
    "df2020perc = df2020perc.loc[~df2020perc['modalidade'].isin(['ensino fundamental anos finais', 'ensino fundamental anos iniciais'])]\n",
    "df2020perc = df2020perc.loc[df2020perc['rede'].isin(['total'])]\n",
    "df2020perc = df2020perc[['modalidade','percentual','categoria_docente']]"
   ]
  },
  {
   "cell_type": "code",
   "execution_count": null,
   "id": "6e116441",
   "metadata": {},
   "outputs": [],
   "source": [
    "# Agrupamento de modalidade, categoria_docente e média do percentual.\n",
    "df2020perc = df2020perc.groupby(['modalidade','categoria_docente'])['percentual'].mean().reset_index().round(2)"
   ]
  },
  {
   "cell_type": "code",
   "execution_count": null,
   "id": "d3ff86e6",
   "metadata": {},
   "outputs": [],
   "source": [
    "# Segunda transformação\n",
    "ano_catdoc = df.loc[df['rede'].isin(['total'])]\n",
    "ano_catdoc = ano_catdoc[['ano','categoria_docente','percentual']]\n",
    "ano_catdoc = ano_catdoc.groupby(['ano','categoria_docente'])['percentual'].mean().reset_index()"
   ]
  },
  {
   "cell_type": "code",
   "execution_count": null,
   "id": "3791901b",
   "metadata": {},
   "outputs": [],
   "source": [
    "# Terceira transformação\n",
    "docente_uf = df2020[['sigla_uf','categoria_docente','percentual']]\n",
    "docente_uf = docente_uf.groupby(['sigla_uf','categoria_docente'])['percentual'].mean().reset_index().round(2).sort_index()"
   ]
  },
  {
   "cell_type": "code",
   "execution_count": null,
   "id": "9a3dcfb7",
   "metadata": {},
   "outputs": [],
   "source": [
    "# Quarta transformação\n",
    "map_redes = df2020.loc[~df2020['rede'].isin(['total'])]\n",
    "map_redes = map_redes[['rede','grupo','categoria_docente','percentual']]\n",
    "map_redes = map_redes.groupby(['rede','grupo','categoria_docente'])['percentual'].mean().reset_index().round(2)\n",
    "\n",
    "map_redes_est = map_redes.loc[map_redes['rede'].isin(['estadual'])]\n",
    "map_redes_fed = map_redes.loc[map_redes['rede'].isin(['federal'])]\n",
    "map_redes_mun = map_redes.loc[map_redes['rede'].isin(['municipal'])]\n",
    "map_redes_priv = map_redes.loc[map_redes['rede'].isin(['privada'])]\n",
    "map_redes_pub = map_redes.loc[map_redes['rede'].isin(['pública'])]"
   ]
  },
  {
   "cell_type": "markdown",
   "id": "52aefb22",
   "metadata": {},
   "source": [
    "## 5 - Criação de Gráficos e Visualização"
   ]
  },
  {
   "cell_type": "code",
   "execution_count": null,
   "id": "6c362c68",
   "metadata": {
    "scrolled": true
   },
   "outputs": [],
   "source": [
    "# Primeiro gráfico (Barras empilhadas)\n",
    "# Criando objeto fig com a função go.Figure()\n",
    "fig = go.Figure(\n",
    "\n",
    "# Definindo as cores das barras referente a qualificação dos professores\n",
    "color_mapping = {\n",
    "    'Docentes com formação superior com complementação pedagógica em área diferente da qual leciona': '#aaaaaa',\n",
    "    'Docentes com formação superior de bacharelado sem complementação pedagógica na mesma área da disciplina que leciona': '#02153d',\n",
    "    'Docentes com formação superior de licenciatura com complementação pedagógica na mesma área da disciplina que leciona': '#4b227a',\n",
    "    'Docentes com formação superior não considerada nas categorias anteriores': '#0197af',\n",
    "    'Docentes sem formação superior': '#00eed0'\n",
    "}\n",
    "\n",
    "# Escolhendo novos nomes dos valores do eixo x\n",
    "novo_rotulo = ['Educação Infantil', 'EJA EF', 'EJA EM', 'Ensino Fundamental', 'Ensino Médio']\n",
    "\n",
    "# Criando o BarPlot\n",
    "fig.add_trace(go.Bar(\n",
    "        x=df2020perc['modalidade'],\n",
    "        y=df2020perc['percentual'],\n",
    "        orientation='v',\n",
    "        marker=dict(\n",
    "        color=df2020perc['categoria_docente'].map(color_mapping)\n",
    "        ),\n",
    "        hovertext=df2020perc['categoria_docente']\n",
    "))\n",
    "\n",
    "# Alterando a estética\n",
    "fig.update_layout(\n",
    "    legend_title='Categorias de Docentes',\n",
    "    title='Percentual da qualificação dos professores nas diferentes categorias de ensino do Brasil',\n",
    "    title_font=dict(\n",
    "            {'family':'Segoe UI',\n",
    "            'size':18}),\n",
    "        annotations=[\n",
    "        dict(\n",
    "            text=\"No ano de 2020\",\n",
    "            showarrow=False,\n",
    "            xref='paper',\n",
    "            yref='paper',\n",
    "            x=-0.041,\n",
    "            y=1.12,\n",
    "            font=dict(\n",
    "                {'family':'Segoe UI',\n",
    "                'size':14}\n",
    "            )\n",
    "        )\n",
    "    ],\n",
    "    xaxis=dict(\n",
    "        tickmode='array',\n",
    "        tickvals=list(range(len(df2020perc['modalidade']))),\n",
    "        ticktext=novo_rotulo),\n",
    "        font=dict(\n",
    "            {'family':'Segoe UI',\n",
    "            'size':12}),\n",
    "     plot_bgcolor='rgb(244, 244, 244)'\n",
    "    yaxis_title='Percentual (%)')\n",
    "    \n"
   ]
  },
  {
   "cell_type": "code",
   "execution_count": null,
   "id": "c2a629ef",
   "metadata": {},
   "outputs": [],
   "source": [
    "# Criando o gráfico de linhas\n",
    "fig1 = px.line(\n",
    "        ano_catdoc,\n",
    "        x='ano',\n",
    "        y='percentual',\n",
    "        color='categoria_docente',\n",
    "        width=500,\n",
    "        color_discrete_map=color_mapping\n",
    ")\n",
    "\n",
    "fig1.update_traces(line=dict(width=4))\n",
    "\n",
    "fig1.update_layout(\n",
    "    title='Percentual de títulos de professores nas escolas do Brasil entre 2013 a 2020',\n",
    "    title_font=dict(\n",
    "            {'family':'Segoe UI',\n",
    "            'size':18}),\n",
    "    plot_bgcolor='rgb(249, 249, 249)',\n",
    "    legend=dict(\n",
    "        xanchor='center',\n",
    "        yanchor='top',\n",
    "        y=-0.2,\n",
    "        x=0.5,\n",
    "        title='Título do docente',\n",
    "        title_font=dict(\n",
    "            {'family':'Segoe UI',\n",
    "            'size':16}),\n",
    "        font=dict(\n",
    "            {'family':'Segoe UI',\n",
    "            'size':10}),\n",
    "    ),\n",
    "    xaxis=dict(\n",
    "        title='Ano',\n",
    "        title_font=dict(\n",
    "            {'family':'Segoe UI',\n",
    "            'size':16})),\n",
    "    yaxis=dict(\n",
    "        title='Percentual (%)',\n",
    "        title_font=dict(\n",
    "            {'family':'Segoe UI',\n",
    "            'size':16}))\n",
    "    \n",
    "\n",
    ")"
   ]
  },
  {
   "cell_type": "code",
   "execution_count": null,
   "id": "17af89dd",
   "metadata": {},
   "outputs": [],
   "source": [
    "fig2 = px.bar(\n",
    "        docente_uf,\n",
    "        x='sigla_uf',\n",
    "        y='percentual',\n",
    "        color='categoria_docente',\n",
    "        barmode='stack',\n",
    "        color_discrete_map=color_mapping\n",
    ")\n",
    "\n",
    "fig2.update_layout(\n",
    "    title='Porcentagem de tipo de título de docente por UF (2020)',\n",
    "    font=dict(\n",
    "        {'family':'Segoe UI'}),\n",
    "    xaxis=dict(\n",
    "        categoryorder='total descending',\n",
    "        title='Estado',\n",
    "        title_font=dict(\n",
    "            {'family':'Segoe UI',\n",
    "            'size':16})),\n",
    "    legend=dict(\n",
    "        xanchor='center',\n",
    "        yanchor='top',\n",
    "        y=-0.2,\n",
    "        x=0.5,\n",
    "        title='Título do docente',\n",
    "        title_font=dict(\n",
    "            {'family':'Segoe UI',\n",
    "            'size':16}),\n",
    "        font=dict(\n",
    "            {'family':'Segoe UI',\n",
    "            'size':10})),\n",
    "    yaxis=dict(\n",
    "        title='Percentual (%)',\n",
    "        title_font=dict(\n",
    "            {'family':'Segoe UI',\n",
    "            'size':16})))"
   ]
  },
  {
   "cell_type": "code",
   "execution_count": null,
   "id": "12e1a182",
   "metadata": {},
   "outputs": [],
   "source": [
    "# Definindo as cores dos pie-charts\n",
    "col_mapping = ['rgb(75,34,122)', 'rgb(2,21,61)', 'rgb(170,170,170)', 'rgb(1,151,175)', 'rgb(0,238,208)']\n",
    "\n",
    "\n",
    "# Definindo o número de linhas e colunas\n",
    "specs = [[{'type':'domain'}, {}, {'type':'domain'},{}, {'type':'domain'}],\n",
    "         [{},{'type':'domain'},{},{'type':'domain'},{}]]\n",
    "fig3 = make_subplots(rows=2, cols=5, specs=specs,\n",
    "                   subplot_titles=['Estadual','','Federal','','Municipal','','Privada','','Pública',''],)\n",
    "\n",
    "# Definindo pie-charts\n",
    "fig3.add_trace(go.Pie(labels=map_redes_est['categoria_docente'], values=map_redes_est['percentual'],\n",
    "                      name='Estadual', marker_colors=col_mapping), row=1, col=1)\n",
    "fig3.add_trace(go.Pie(labels=map_redes_fed['categoria_docente'], values=map_redes_fed['percentual'],\n",
    "                      name='Federal', marker_colors=col_mapping), row=1, col=3)\n",
    "fig3.add_trace(go.Pie(labels=map_redes_mun['categoria_docente'], values=map_redes_mun['percentual'],\n",
    "                      name='Municipal', marker_colors=col_mapping), row=1, col=5)\n",
    "fig3.add_trace(go.Pie(labels=map_redes_priv['categoria_docente'], values=map_redes_priv['percentual'],\n",
    "                      name='Privada', marker_colors=col_mapping), row=2, col=2)\n",
    "fig3.add_trace(go.Pie(labels=map_redes_pub['categoria_docente'], values=map_redes_pub['percentual'],\n",
    "                      name='Pública', marker_colors=col_mapping), row=2, col=4)\n",
    "\n",
    "# Ajuste do layout do pie chart\n",
    "fig3.update_traces(hoverinfo='label+percent+name')\n",
    "fig3.update_layout(title={\n",
    "        'text': \"Formação dos professores das diferentes redes de ensino\",\n",
    "        'y': 0.98,\n",
    "        'x': 0.5,\n",
    "        'xanchor': 'center',\n",
    "        'yanchor': 'top',\n",
    "        'font': {'family': 'Segoe UI', 'size': 20}},\n",
    "                  showlegend=False)\n",
    "\n",
    "# Ajustando os subtítulos\n",
    "fig3.update_annotations(\n",
    "    font=dict(family=\"Segoe UI\", size=16),\n",
    "    yshift=15)  # Ajuste a altura dos subtítulos aqui\n",
    "\n",
    "\n",
    "fig3 = go.Figure(fig)\n",
    "fig3.show()\n"
   ]
  },
  {
   "cell_type": "markdown",
   "id": "df65f633",
   "metadata": {},
   "source": [
    "## 6 - Exportação e Salvamento"
   ]
  },
  {
   "cell_type": "code",
   "execution_count": null,
   "id": "6027cf8b",
   "metadata": {},
   "outputs": [],
   "source": [
    "# Save da base de dados da primeira análise em arquivo .csv\n",
    "df2020perc.to_csv('df2020perc.csv', index=False, encoding='latin-1')\n",
    "\n",
    "ano_catdoc.to_csv('ano_catdoc.csv', index=False, encoding='latin-1')\n",
    "\n",
    "docente_uf.to_csv('docente_uf.csv', index=False, encoding='latin-1')\n",
    "\n",
    "map_redes_est.to_csv('map_redes_est.csv', index=False, encoding='latin-1')\n",
    "map_redes_fed.to_csv('map_redes_fed.csv', index=False, encoding='latin-1')\n",
    "map_redes_mun.to_csv('map_redes_mun.csv', index=False, encoding='latin-1')\n",
    "map_redes_priv.to_csv('map_redes_priv.csv', index=False, encoding='latin-1')\n",
    "map_redes_pub.to_csv('map_redes_pub.csv', index=False, encoding='latin-1')"
   ]
  },
  {
   "cell_type": "code",
   "execution_count": null,
   "id": "91406aa6",
   "metadata": {},
   "outputs": [],
   "source": []
  },
  {
   "cell_type": "code",
   "execution_count": null,
   "id": "aad2758b",
   "metadata": {},
   "outputs": [],
   "source": []
  },
  {
   "cell_type": "code",
   "execution_count": null,
   "id": "7e257958",
   "metadata": {},
   "outputs": [],
   "source": []
  },
  {
   "cell_type": "code",
   "execution_count": null,
   "id": "78d8f733",
   "metadata": {},
   "outputs": [],
   "source": []
  },
  {
   "cell_type": "code",
   "execution_count": null,
   "id": "756faee6",
   "metadata": {},
   "outputs": [],
   "source": []
  },
  {
   "cell_type": "code",
   "execution_count": null,
   "id": "c611a4fd",
   "metadata": {},
   "outputs": [],
   "source": []
  },
  {
   "cell_type": "code",
   "execution_count": null,
   "id": "e008f3fe",
   "metadata": {},
   "outputs": [],
   "source": []
  }
 ],
 "metadata": {
  "kernelspec": {
   "display_name": "Python 3 (ipykernel)",
   "language": "python",
   "name": "python3"
  },
  "language_info": {
   "codemirror_mode": {
    "name": "ipython",
    "version": 3
   },
   "file_extension": ".py",
   "mimetype": "text/x-python",
   "name": "python",
   "nbconvert_exporter": "python",
   "pygments_lexer": "ipython3",
   "version": "3.10.9"
  }
 },
 "nbformat": 4,
 "nbformat_minor": 5
}
